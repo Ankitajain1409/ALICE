{
 "cells": [
  {
   "cell_type": "code",
   "execution_count": 1,
   "metadata": {},
   "outputs": [
    {
     "name": "stderr",
     "output_type": "stream",
     "text": [
      "2023-04-30 20:02:26.802670: I tensorflow/core/platform/cpu_feature_guard.cc:182] This TensorFlow binary is optimized to use available CPU instructions in performance-critical operations.\n",
      "To enable the following instructions: AVX2 FMA, in other operations, rebuild TensorFlow with the appropriate compiler flags.\n",
      "2023-04-30 20:02:27.402701: W tensorflow/compiler/tf2tensorrt/utils/py_utils.cc:38] TF-TRT Warning: Could not find TensorRT\n"
     ]
    }
   ],
   "source": [
    "import torch\n",
    "from torch.utils.data import DataLoader, Dataset\n",
    "import torch.nn.functional as F\n",
    "from tqdm import tqdm\n",
    "from natsort import natsorted\n",
    "import os\n",
    "from visualizations import Umap, K_means, TsnePlot, save_image\n",
    "os.environ[\"CUDA_VISIBLE_DEVICES\"] = \"3\"\n",
    "import numpy as np\n",
    "import cv2\n",
    "# import pdb\n",
    "import config\n",
    "from glob import glob\n",
    "import tensorflow as tf\n",
    "\n",
    "# import lpips\n",
    "import torch.nn as nn\n",
    "from torchvision.models import resnet18\n",
    "from torchsummary import summary\n",
    "\n",
    "# from pytorch_metric_learning import miners, losses\n"
   ]
  },
  {
   "cell_type": "code",
   "execution_count": 2,
   "metadata": {},
   "outputs": [
    {
     "data": {
      "text/plain": [
       "True"
      ]
     },
     "execution_count": 2,
     "metadata": {},
     "output_type": "execute_result"
    }
   ],
   "source": [
    "torch.cuda.is_available()"
   ]
  },
  {
   "cell_type": "code",
   "execution_count": 3,
   "metadata": {},
   "outputs": [
    {
     "data": {
      "text/plain": [
       "<torch._C.Generator at 0x7f56c018b150>"
      ]
     },
     "execution_count": 3,
     "metadata": {},
     "output_type": "execute_result"
    }
   ],
   "source": [
    "np.random.seed(45)\n",
    "torch.manual_seed(45)"
   ]
  },
  {
   "cell_type": "code",
   "execution_count": 4,
   "metadata": {},
   "outputs": [],
   "source": [
    "class EEGDataset(Dataset):\n",
    "    def __init__(self, eegs, labels, subjects=None, n_fft=64, win_length=64, hop_length=16):\n",
    "        self.eegs         = eegs\n",
    "        # self.images       = images\n",
    "        self.labels       = labels\n",
    "        # self.subjects     = subjects\n",
    "\n",
    "\n",
    "    def __getitem__(self, index):\n",
    "        eeg    = self.eegs[index]\n",
    "        # eeg    = np.float32(self.eegs[index].cpu())\n",
    "        norm   = torch.max(eeg) / 2.0\n",
    "        eeg    = (eeg - norm)/ norm\n",
    "        # eeg    = (eeg - np.min(eeg))/ (np.max(eeg) - np.min(eeg))\n",
    "        # image  = self.images[index]\n",
    "        label  = self.labels[index]\n",
    "        # subject= self.subjects[index]\n",
    "        return eeg, label\n",
    "\n",
    "    def __len__(self):\n",
    "        return len(self.eegs)\n"
   ]
  },
  {
   "cell_type": "code",
   "execution_count": 5,
   "metadata": {},
   "outputs": [
    {
     "name": "stdout",
     "output_type": "stream",
     "text": [
      "cuda\n"
     ]
    },
    {
     "name": "stderr",
     "output_type": "stream",
     "text": [
      "100%|██████████| 7959/7959 [00:05<00:00, 1518.80it/s]\n"
     ]
    }
   ],
   "source": [
    "\n",
    "import pandas as pd\n",
    "if __name__ == '__main__':\n",
    "\n",
    "    base_path       = config.base_path\n",
    "    train_path      = config.train_path\n",
    "    validation_path = config.validation_path\n",
    "    test_path = config.test_path\n",
    "    device          = config.device\n",
    "    batch_size = config.batch_size\n",
    "    print(device)\n",
    "\n",
    "\n",
    "    x_train_eeg = []\n",
    "    x_train_image = []\n",
    "    labels = []\n",
    "\n",
    "    data_ = pd.DataFrame(columns=['EEG','Label',\"ID\",'Subject'])\n",
    "\n",
    "    for i in tqdm(natsorted(os.listdir(base_path + train_path))):\n",
    "        loaded_array = np.load(base_path + train_path + i, allow_pickle=True)\n",
    "        data_= data_.append(pd.DataFrame(loaded_array[1:].reshape(1,4),columns=['EEG','Label',\"ID\",'Subject']),ignore_index=True)\n",
    "        # x_train_eeg.append(np.expand_dims(loaded_array[1].T, axis=0))\n",
    "        # img = cv2.resize(loaded_array[0], (224, 224))\n",
    "        # img = np.transpose(img, (2, 0, 1))\n",
    "        # x_train_image.append(img)\n",
    "        # labels.append(loaded_array[2])\n",
    "        # train_subjects.append(loaded_array[4])\n"
   ]
  },
  {
   "cell_type": "code",
   "execution_count": 6,
   "metadata": {},
   "outputs": [],
   "source": [
    "d={}\n",
    "for i in range(1,7):\n",
    "    d['subject'+str(i)]= data_.iloc[np.where(data_['Subject']==i)]"
   ]
  },
  {
   "cell_type": "code",
   "execution_count": 7,
   "metadata": {},
   "outputs": [],
   "source": [
    "from sklearn.model_selection import train_test_split\n",
    "X_train = []\n",
    "X_pool= []\n",
    "y_train = []\n",
    "y_pool = []\n",
    "for i in range(1,7):\n",
    "    X_tr, X_p, y_tr, y_p= train_test_split(np.array(d['subject'+str(i)]['EEG']),np.array(d['subject'+str(i)]['Label']),test_size=0.03,stratify=d['subject'+str(i)]['Label'])\n",
    "    X_train.append(X_tr)\n",
    "    X_pool.append(X_p)\n",
    "    y_train.append(y_tr)\n",
    "    y_pool.append(y_p)"
   ]
  },
  {
   "cell_type": "code",
   "execution_count": 8,
   "metadata": {},
   "outputs": [],
   "source": [
    "X_train = [num for sublist in X_train for num in sublist]\n",
    "X_train =[num.T for num in X_train]\n",
    "X_pool = [num for sublist in X_pool for num in sublist]\n",
    "X_pool =[num.T for num in X_pool]\n",
    "y_train = [num for sublist in y_train for num in sublist]\n",
    "y_pool = [num for sublist in y_pool for num in sublist]\n",
    "\n"
   ]
  },
  {
   "cell_type": "code",
   "execution_count": 9,
   "metadata": {},
   "outputs": [],
   "source": [
    "X_train = np.array(X_train)\n",
    "X_pool=np.array(X_pool)\n",
    "y_pool= np.array(y_pool)\n",
    "y_train= np.array(y_train)"
   ]
  },
  {
   "cell_type": "code",
   "execution_count": 10,
   "metadata": {},
   "outputs": [],
   "source": [
    "x_train_eeg = torch.from_numpy(X_train).float().to(device)\n",
    "train_labels = torch.from_numpy(y_train).long().to(device)\n",
    "x_pool_eeg = torch.from_numpy(X_pool).float().to(device)\n",
    "pool_labels = torch.from_numpy(y_pool).long().to(device)"
   ]
  },
  {
   "cell_type": "code",
   "execution_count": 11,
   "metadata": {},
   "outputs": [
    {
     "name": "stdout",
     "output_type": "stream",
     "text": [
      "torch.Size([7719, 440, 128])\n"
     ]
    }
   ],
   "source": [
    "print(x_train_eeg.shape)"
   ]
  },
  {
   "cell_type": "code",
   "execution_count": 12,
   "metadata": {},
   "outputs": [],
   "source": [
    "class EEGFeatNet(nn.Module):\n",
    "    def __init__(self, input_shape=(1, 440, 128), n_features=128, projection_dim=128, num_filters=[128, 256, 512, 1024], kernel_sizes=[3, 3, 3, 3], strides=[2, 2, 2, 2], padding=[1, 1, 1, 1]):\n",
    "        super(EEGFeatNet, self).__init__()\n",
    "\n",
    "        # Define the convolutional layers\n",
    "        self.layers = nn.ModuleList()\n",
    "        in_channels = input_shape[0]\n",
    "        for i, out_channels in enumerate(num_filters):\n",
    "            self.layers.append( \n",
    "                                nn.Sequential(\n",
    "                                    nn.Conv2d(in_channels, out_channels, kernel_sizes[i], strides[i], padding[i], bias=False),\\\n",
    "                                    # nn.BatchNorm2d(out_channels),\\\n",
    "                                    nn.InstanceNorm2d(out_channels),\\\n",
    "                                    nn.LeakyReLU(),\n",
    "                                    nn.Dropout(p=0.05),\n",
    "                                )\n",
    "                             )\n",
    "            in_channels = out_channels\n",
    "\n",
    "        self.layers.append(nn.AdaptiveAvgPool2d(output_size=(1, 1)))\n",
    "\n",
    "        # Define the fully connected layers\n",
    "        self.fc = nn.Sequential(\n",
    "            nn.Linear(num_filters[-1], projection_dim, bias=False),\n",
    "            # nn.LeakyReLU(inplace=True),\n",
    "        )\n",
    "        self.fc2 = nn.Sequential(\n",
    "            nn.Linear(projection_dim,out_features=40, bias=False),\n",
    "        #     # nn.LeakyReLU(inplace=True),\n",
    "        )\n",
    "\n",
    "    def forward(self, x):\n",
    "        # Apply the convolutional layers\n",
    "        for layer in self.layers:\n",
    "            x = layer(x)\n",
    "            # print(x.shape)\n",
    "\n",
    "        # Flatten the output\n",
    "        x = torch.reshape(x, [x.shape[0], -1])\n",
    "        # print(x.shape)\n",
    "\n",
    "        # Apply the fully connected layers\n",
    "        proj = self.fc(x)\n",
    "        x= self.fc2(proj)\n",
    "        return x,proj"
   ]
  },
  {
   "cell_type": "code",
   "execution_count": 13,
   "metadata": {},
   "outputs": [
    {
     "name": "stderr",
     "output_type": "stream",
     "text": [
      "100%|██████████| 1994/1994 [00:01<00:00, 1063.32it/s]\n"
     ]
    }
   ],
   "source": [
    "x_val_eeg = []\n",
    "x_val_image = []\n",
    "label_Val = []\n",
    "val_subjects = []\n",
    "\n",
    "for i in tqdm(natsorted(os.listdir(base_path + validation_path))):\n",
    "    loaded_array = np.load(base_path + validation_path + i, allow_pickle=True)\n",
    "    # x_val_eeg.append(loaded_array[1].T)\n",
    "    x_val_eeg.append(np.expand_dims(loaded_array[1].T, axis=0))\n",
    "    img = cv2.resize(loaded_array[0], (224, 224))\n",
    "    img = (cv2.cvtColor(img, cv2.COLOR_BGR2RGB) - 127.5) / 127.5\n",
    "    img = np.transpose(img, (2, 0, 1))\n",
    "    x_val_image.append(img)\n",
    "    label_Val.append(loaded_array[2])\n",
    "    val_subjects.append(loaded_array[4])\n",
    "    \n",
    "x_val_eeg   = np.array(x_val_eeg)\n",
    "val_labels  = np.array(label_Val)\n",
    "\n",
    "x_val_eeg   = torch.from_numpy(x_val_eeg).float().to(device)\n",
    "val_labels  = torch.from_numpy(val_labels).long().to(device)\n",
    "\n",
    "val_data       = EEGDataset(x_val_eeg, val_labels)\n",
    "val_dataloader = DataLoader(val_data, batch_size=batch_size, shuffle=False, pin_memory=False, drop_last=True)"
   ]
  },
  {
   "cell_type": "code",
   "execution_count": 14,
   "metadata": {},
   "outputs": [
    {
     "name": "stderr",
     "output_type": "stream",
     "text": [
      "100%|██████████| 1987/1987 [00:01<00:00, 1018.66it/s]\n"
     ]
    }
   ],
   "source": [
    "x_test_eeg = []\n",
    "x_test_image = []\n",
    "label_Test = []\n",
    "test_subjects = []\n",
    "\n",
    "for i in tqdm(natsorted(os.listdir(base_path + test_path))):\n",
    "    loaded_array = np.load(base_path + test_path + i, allow_pickle=True)\n",
    "    # x_val_eeg.append(loaded_array[1].T)\n",
    "    x_test_eeg.append(np.expand_dims(loaded_array[1].T, axis=0))\n",
    "    img = cv2.resize(loaded_array[0], (224, 224))\n",
    "    img = (cv2.cvtColor(img, cv2.COLOR_BGR2RGB) - 127.5) / 127.5\n",
    "    img = np.transpose(img, (2, 0, 1))\n",
    "    x_test_image.append(img)\n",
    "    label_Test.append(loaded_array[2])\n",
    "    test_subjects.append(loaded_array[4])\n",
    "    \n",
    "x_test_eeg   = np.array(x_test_eeg)\n",
    "test_labels  = np.array(label_Test)\n",
    "\n",
    "x_test_eeg   = torch.from_numpy(x_test_eeg).float().to(device)\n",
    "test_labels  = torch.from_numpy(test_labels).long().to(device)\n",
    "\n",
    "test_data       = EEGDataset(x_test_eeg, test_labels)\n",
    "test_dataloader = DataLoader(test_data, batch_size=1, shuffle=False, pin_memory=False, drop_last=True)"
   ]
  },
  {
   "cell_type": "code",
   "execution_count": 15,
   "metadata": {},
   "outputs": [],
   "source": [
    "def train(epoch, model, optimizer, loss_fn, x_train_eeg,train_labels):\n",
    "    # print(x_train_eeg.shape,train_labels.shape)\n",
    "    train_data  = EEGDataset(x_train_eeg, train_labels)\n",
    "    train_dataloader = DataLoader(train_data, batch_size=batch_size, shuffle=True, pin_memory=False, drop_last=True)\n",
    "\n",
    "    running_loss      = []\n",
    "    eeg_featvec_proj  = np.array([])\n",
    "    labels_array      = np.array([])\n",
    "\n",
    "    tq = tqdm(train_dataloader)\n",
    "    for batch_idx, (eeg, labels) in enumerate(tq, start=1):\n",
    "        eeg    = eeg.to(config.device)\n",
    "        labels = labels.to(config.device)\n",
    "        # print(eeg.shape)\n",
    "        optimizer.zero_grad()\n",
    "        y_pred,proj = model(eeg.reshape(256,1,440,128))\n",
    "\n",
    "        loss       = loss_fn(y_pred, labels)\n",
    "        \n",
    "        # backpropagate and update parameters\n",
    "        loss.backward()\n",
    "        optimizer.step()\n",
    "\n",
    "        running_loss = running_loss + [loss.detach().cpu().numpy()]\n",
    "\n",
    "        tq.set_description('Train:[{}, {:0.3f}]'.format(epoch, np.mean(running_loss)))\n",
    "\n",
    "    if (epoch%config.vis_freq) == 0:\n",
    "        # for batch_idx, (eeg, eeg_x1, eeg_x2, gamma, images, labels) in enumerate(tqdm(train_dataloader)):\n",
    "        for batch_idx, (eeg, labels) in enumerate(tqdm(train_dataloader)):\n",
    "            eeg, labels = eeg.to(config.device), labels.to(config.device)\n",
    "            with torch.no_grad():\n",
    "                x_proj,proj = model(eeg.reshape(256,1,440,128))\n",
    "            # eeg_featvec      = np.concatenate((eeg_featvec, x.cpu().detach().numpy()), axis=0) if eeg_featvec.size else x.cpu().detach().numpy()\n",
    "            eeg_featvec_proj = np.concatenate((eeg_featvec_proj, x_proj.cpu().detach().numpy()), axis=0) if eeg_featvec_proj.size else x_proj.cpu().detach().numpy()\n",
    "            # eeg_gamma        = np.concatenate((eeg_gamma, gamma.cpu().detach().numpy()), axis=0) if eeg_gamma.size else gamma.cpu().detach().numpy()\n",
    "            labels_array     = np.concatenate((labels_array, labels.cpu().detach().numpy()), axis=0) if labels_array.size else labels.cpu().detach().numpy()\n",
    "    acc = (torch.argmax(torch.tensor(eeg_featvec_proj), 1) == torch.tensor(labels_array)).float().mean()\n",
    "    print(\"[Epoch: {}, train Accuracy: {}]\".format(epoch, acc))\n",
    "    return np.mean(running_loss)"
   ]
  },
  {
   "cell_type": "code",
   "execution_count": 16,
   "metadata": {},
   "outputs": [],
   "source": [
    "def validation(epoch, model, optimizer, loss_fn, val_dataloader):\n",
    "\n",
    "\trunning_loss      = []\n",
    "\teeg_featvec_proj  = np.array([])\n",
    "\tlabels_array      = np.array([])\n",
    "\n",
    "\ttq = tqdm(val_dataloader)\n",
    "\tfor batch_idx, (eeg, labels) in enumerate(tq, start=1):\n",
    "\t\teeg, labels = eeg.to(config.device), labels.to(config.device)\n",
    "\t\twith torch.no_grad():\n",
    "\t\t\tmodel.eval()\n",
    "\t\t\tx_proj,proj = model(eeg.reshape(256,1,440,128))\n",
    "\n",
    "\t\t\t# hard_pairs = miner(x_proj, labels)\n",
    "\t\t\tloss       = loss_fn(x_proj, labels)\n",
    "\n",
    "\t\t\trunning_loss = running_loss + [loss.detach().cpu().numpy()]\n",
    "\n",
    "\t\ttq.set_description('Val:[{}, {:0.3f}]'.format(epoch, np.mean(running_loss)))\n",
    "\n",
    "\t\teeg_featvec_proj = np.concatenate((eeg_featvec_proj, x_proj.cpu().detach().numpy()), axis=0) if eeg_featvec_proj.size else x_proj.cpu().detach().numpy()\n",
    "\t\tlabels_array     = np.concatenate((labels_array, labels.cpu().detach().numpy()), axis=0) if labels_array.size else labels.cpu().detach().numpy()\n",
    "\n",
    "\tacc = (torch.argmax(torch.tensor(eeg_featvec_proj), 1) == torch.tensor(labels_array)).float().mean()\n",
    "\tprint(\"[Epoch: {}, Val Accuracy: {}]\".format(epoch, acc))\n",
    "\n",
    "\treturn np.mean(running_loss), acc"
   ]
  },
  {
   "cell_type": "code",
   "execution_count": 17,
   "metadata": {},
   "outputs": [],
   "source": [
    "def test_fn(epoch, model, optimizer, loss_fn, test_dataloader):\n",
    "\n",
    "\trunning_loss      = []\n",
    "\teeg_featvec_proj  = np.array([])\n",
    "\teeg_featvec_proj_actual=np.array([])\n",
    "\tlabels_array      = np.array([])\n",
    "\n",
    "\ttq = tqdm(test_dataloader)\n",
    "\tfor batch_idx, (eeg, labels) in enumerate(tq, start=1):\n",
    "\t\teeg, labels = eeg.to(config.device), labels.to(config.device)\n",
    "\t\twith torch.no_grad():\n",
    "\t\t\tx_proj,proj = model(eeg.reshape(1,1,440,128))\n",
    "\n",
    "\t\t\t# hard_pairs = miner(x_proj, labels)\n",
    "\t\t\tloss       = loss_fn(x_proj, labels)\n",
    "\n",
    "\t\t\trunning_loss = running_loss + [loss.detach().cpu().numpy()]\n",
    "\n",
    "\t\ttq.set_description('Val:[{}, {:0.3f}]'.format(epoch, np.mean(running_loss)))\n",
    "\n",
    "\t\teeg_featvec_proj = np.concatenate((eeg_featvec_proj, x_proj.cpu().detach().numpy()), axis=0) if eeg_featvec_proj.size else x_proj.cpu().detach().numpy()\n",
    "\t\teeg_featvec_proj_actual = np.concatenate((eeg_featvec_proj_actual, proj.cpu().detach().numpy()), axis=0) if eeg_featvec_proj_actual.size else proj.cpu().detach().numpy()\n",
    "\t\tlabels_array     = np.concatenate((labels_array, labels.cpu().detach().numpy()), axis=0) if labels_array.size else labels.cpu().detach().numpy()\n",
    "\t\n",
    "\t# num_clusters   = 40\n",
    "\t# k_means        = K_means(n_clusters=num_clusters)\n",
    "\t# clustering_acc_proj = k_means.transform(eeg_featvec_proj_actual, labels_array)\n",
    "\t# tsne_plot = TsnePlot(perplexity=30, learning_rate=700, n_iter=1000)\n",
    "\t# reduced_embedding_tsne = tsne_plot.plot(eeg_featvec_proj_actual, labels_array, clustering_acc_proj, 'test', 2,epoch, proj_type='proj')\n",
    "\tacc = (torch.argmax(torch.tensor(eeg_featvec_proj), 1) == torch.tensor(labels_array)).float().mean()\n",
    "\tprint(\"[Epoch: {}, Val Accuracy: {}]\".format(epoch, acc))\n",
    "\treturn np.mean(running_loss), acc"
   ]
  },
  {
   "cell_type": "code",
   "execution_count": 18,
   "metadata": {},
   "outputs": [
    {
     "name": "stdout",
     "output_type": "stream",
     "text": [
      "----------------------------------------------------------------\n",
      "        Layer (type)               Output Shape         Param #\n",
      "================================================================\n",
      "            Conv2d-1         [-1, 128, 220, 64]           1,152\n",
      "    InstanceNorm2d-2         [-1, 128, 220, 64]               0\n",
      "         LeakyReLU-3         [-1, 128, 220, 64]               0\n",
      "           Dropout-4         [-1, 128, 220, 64]               0\n",
      "            Conv2d-5         [-1, 256, 110, 32]         294,912\n",
      "    InstanceNorm2d-6         [-1, 256, 110, 32]               0\n",
      "         LeakyReLU-7         [-1, 256, 110, 32]               0\n",
      "           Dropout-8         [-1, 256, 110, 32]               0\n",
      "            Conv2d-9          [-1, 512, 55, 16]       1,179,648\n",
      "   InstanceNorm2d-10          [-1, 512, 55, 16]               0\n",
      "        LeakyReLU-11          [-1, 512, 55, 16]               0\n",
      "          Dropout-12          [-1, 512, 55, 16]               0\n",
      "           Conv2d-13          [-1, 1024, 28, 8]       4,718,592\n",
      "   InstanceNorm2d-14          [-1, 1024, 28, 8]               0\n",
      "        LeakyReLU-15          [-1, 1024, 28, 8]               0\n",
      "          Dropout-16          [-1, 1024, 28, 8]               0\n",
      "AdaptiveAvgPool2d-17           [-1, 1024, 1, 1]               0\n",
      "           Linear-18                  [-1, 128]         131,072\n",
      "           Linear-19                   [-1, 40]           5,120\n",
      "================================================================\n",
      "Total params: 6,330,496\n",
      "Trainable params: 6,330,496\n",
      "Non-trainable params: 0\n",
      "----------------------------------------------------------------\n",
      "Input size (MB): 0.21\n",
      "Forward/backward pass size (MB): 103.26\n",
      "Params size (MB): 24.15\n",
      "Estimated Total Size (MB): 127.62\n",
      "----------------------------------------------------------------\n"
     ]
    }
   ],
   "source": [
    "model     = EEGFeatNet(input_shape=config.input_shape, n_features=config.feat_dim, projection_dim=config.projection_dim).to(config.device)\n",
    "\n",
    "summary(model,(1,440,128))\n",
    "model     = torch.nn.DataParallel(model).to(config.device)\n",
    "\n",
    "optimizer = torch.optim.Adam(\\\n",
    "                                    list(model.parameters()),\\\n",
    "                                    lr=config.lr,\\\n",
    "                                    betas=(0.9, 0.999)\n",
    "                                )\n",
    "loss_fn  = nn.CrossEntropyLoss()\n",
    "EPOCHS = config.epoch\n",
    "\n"
   ]
  },
  {
   "cell_type": "code",
   "execution_count": 19,
   "metadata": {},
   "outputs": [
    {
     "data": {
      "text/plain": [
       "torch.Size([7719, 440, 128])"
      ]
     },
     "execution_count": 19,
     "metadata": {},
     "output_type": "execute_result"
    }
   ],
   "source": [
    "x_train_eeg.shape"
   ]
  },
  {
   "cell_type": "code",
   "execution_count": 20,
   "metadata": {},
   "outputs": [
    {
     "data": {
      "text/plain": [
       "'rnn_torchviz.png'"
      ]
     },
     "execution_count": 20,
     "metadata": {},
     "output_type": "execute_result"
    }
   ],
   "source": [
    "from torchviz import make_dot\n",
    "\n",
    "make_dot(model(x_train_eeg[0].reshape(1,1,440,128)), params=dict(list(model.named_parameters()))).render(\"rnn_torchviz\", format=\"png\")"
   ]
  },
  {
   "cell_type": "code",
   "execution_count": 21,
   "metadata": {},
   "outputs": [
    {
     "name": "stderr",
     "output_type": "stream",
     "text": [
      "Train:[0, 3.677]: 100%|██████████| 30/30 [00:03<00:00,  8.15it/s]\n",
      "100%|██████████| 30/30 [00:01<00:00, 20.29it/s]\n"
     ]
    },
    {
     "name": "stdout",
     "output_type": "stream",
     "text": [
      "[Epoch: 0, train Accuracy: 0.04661458358168602]\n"
     ]
    },
    {
     "name": "stderr",
     "output_type": "stream",
     "text": [
      "Val:[0, 3.655]: 100%|██████████| 7/7 [00:00<00:00, 22.26it/s]\n"
     ]
    },
    {
     "name": "stdout",
     "output_type": "stream",
     "text": [
      "[Epoch: 0, Val Accuracy: 0.05078125]\n"
     ]
    },
    {
     "name": "stderr",
     "output_type": "stream",
     "text": [
      "Train:[1, 3.593]: 100%|██████████| 30/30 [00:03<00:00,  9.27it/s]\n",
      "100%|██████████| 30/30 [00:01<00:00, 22.59it/s]\n"
     ]
    },
    {
     "name": "stdout",
     "output_type": "stream",
     "text": [
      "[Epoch: 1, train Accuracy: 0.11874999850988388]\n"
     ]
    },
    {
     "name": "stderr",
     "output_type": "stream",
     "text": [
      "Val:[1, 3.555]: 100%|██████████| 7/7 [00:00<00:00, 22.30it/s]\n"
     ]
    },
    {
     "name": "stdout",
     "output_type": "stream",
     "text": [
      "[Epoch: 1, Val Accuracy: 0.0870535746216774]\n"
     ]
    },
    {
     "name": "stderr",
     "output_type": "stream",
     "text": [
      "Train:[2, 3.417]: 100%|██████████| 30/30 [00:03<00:00,  9.34it/s]\n",
      "100%|██████████| 30/30 [00:01<00:00, 22.26it/s]\n"
     ]
    },
    {
     "name": "stdout",
     "output_type": "stream",
     "text": [
      "[Epoch: 2, train Accuracy: 0.13502603769302368]\n"
     ]
    },
    {
     "name": "stderr",
     "output_type": "stream",
     "text": [
      "Val:[2, 3.305]: 100%|██████████| 7/7 [00:00<00:00, 21.90it/s]\n"
     ]
    },
    {
     "name": "stdout",
     "output_type": "stream",
     "text": [
      "[Epoch: 2, Val Accuracy: 0.1099330335855484]\n"
     ]
    },
    {
     "name": "stderr",
     "output_type": "stream",
     "text": [
      "Train:[3, 3.117]: 100%|██████████| 30/30 [00:03<00:00,  9.13it/s]\n",
      "100%|██████████| 30/30 [00:01<00:00, 22.60it/s]\n"
     ]
    },
    {
     "name": "stdout",
     "output_type": "stream",
     "text": [
      "[Epoch: 3, train Accuracy: 0.2506510317325592]\n"
     ]
    },
    {
     "name": "stderr",
     "output_type": "stream",
     "text": [
      "Val:[3, 3.016]: 100%|██████████| 7/7 [00:00<00:00, 21.33it/s]\n"
     ]
    },
    {
     "name": "stdout",
     "output_type": "stream",
     "text": [
      "[Epoch: 3, Val Accuracy: 0.1975446492433548]\n"
     ]
    },
    {
     "name": "stderr",
     "output_type": "stream",
     "text": [
      "Train:[4, 2.844]: 100%|██████████| 30/30 [00:03<00:00,  9.30it/s]\n",
      "100%|██████████| 30/30 [00:01<00:00, 22.61it/s]\n"
     ]
    },
    {
     "name": "stdout",
     "output_type": "stream",
     "text": [
      "[Epoch: 4, train Accuracy: 0.26119792461395264]\n"
     ]
    },
    {
     "name": "stderr",
     "output_type": "stream",
     "text": [
      "Val:[4, 2.751]: 100%|██████████| 7/7 [00:00<00:00, 21.44it/s]\n"
     ]
    },
    {
     "name": "stdout",
     "output_type": "stream",
     "text": [
      "[Epoch: 4, Val Accuracy: 0.2193080335855484]\n"
     ]
    },
    {
     "name": "stderr",
     "output_type": "stream",
     "text": [
      "Train:[5, 2.622]: 100%|██████████| 30/30 [00:03<00:00,  9.31it/s]\n",
      "100%|██████████| 30/30 [00:01<00:00, 22.52it/s]\n"
     ]
    },
    {
     "name": "stdout",
     "output_type": "stream",
     "text": [
      "[Epoch: 5, train Accuracy: 0.30351561307907104]\n"
     ]
    },
    {
     "name": "stderr",
     "output_type": "stream",
     "text": [
      "Val:[5, 2.558]: 100%|██████████| 7/7 [00:00<00:00, 22.11it/s]\n"
     ]
    },
    {
     "name": "stdout",
     "output_type": "stream",
     "text": [
      "[Epoch: 5, Val Accuracy: 0.2483258992433548]\n"
     ]
    },
    {
     "name": "stderr",
     "output_type": "stream",
     "text": [
      "Train:[6, 2.433]: 100%|██████████| 30/30 [00:03<00:00,  9.32it/s]\n",
      "100%|██████████| 30/30 [00:01<00:00, 22.63it/s]\n"
     ]
    },
    {
     "name": "stdout",
     "output_type": "stream",
     "text": [
      "[Epoch: 6, train Accuracy: 0.3199218809604645]\n"
     ]
    },
    {
     "name": "stderr",
     "output_type": "stream",
     "text": [
      "Val:[6, 2.377]: 100%|██████████| 7/7 [00:00<00:00, 21.74it/s]\n"
     ]
    },
    {
     "name": "stdout",
     "output_type": "stream",
     "text": [
      "[Epoch: 6, Val Accuracy: 0.2678571343421936]\n"
     ]
    },
    {
     "name": "stderr",
     "output_type": "stream",
     "text": [
      "Train:[7, 2.253]: 100%|██████████| 30/30 [00:03<00:00,  9.23it/s]\n",
      "100%|██████████| 30/30 [00:01<00:00, 22.61it/s]\n"
     ]
    },
    {
     "name": "stdout",
     "output_type": "stream",
     "text": [
      "[Epoch: 7, train Accuracy: 0.4075520932674408]\n"
     ]
    },
    {
     "name": "stderr",
     "output_type": "stream",
     "text": [
      "Val:[7, 2.212]: 100%|██████████| 7/7 [00:00<00:00, 21.95it/s]\n"
     ]
    },
    {
     "name": "stdout",
     "output_type": "stream",
     "text": [
      "[Epoch: 7, Val Accuracy: 0.3582589328289032]\n"
     ]
    },
    {
     "name": "stderr",
     "output_type": "stream",
     "text": [
      "Train:[8, 2.097]: 100%|██████████| 30/30 [00:03<00:00,  9.33it/s]\n",
      "100%|██████████| 30/30 [00:01<00:00, 21.97it/s]\n"
     ]
    },
    {
     "name": "stdout",
     "output_type": "stream",
     "text": [
      "[Epoch: 8, train Accuracy: 0.41158854961395264]\n"
     ]
    },
    {
     "name": "stderr",
     "output_type": "stream",
     "text": [
      "Val:[8, 2.069]: 100%|██████████| 7/7 [00:00<00:00, 21.63it/s]\n"
     ]
    },
    {
     "name": "stdout",
     "output_type": "stream",
     "text": [
      "[Epoch: 8, Val Accuracy: 0.3470982015132904]\n"
     ]
    },
    {
     "name": "stderr",
     "output_type": "stream",
     "text": [
      "Train:[9, 1.963]: 100%|██████████| 30/30 [00:03<00:00,  9.30it/s]\n",
      "100%|██████████| 30/30 [00:01<00:00, 22.57it/s]\n"
     ]
    },
    {
     "name": "stdout",
     "output_type": "stream",
     "text": [
      "[Epoch: 9, train Accuracy: 0.44153645634651184]\n"
     ]
    },
    {
     "name": "stderr",
     "output_type": "stream",
     "text": [
      "Val:[9, 1.978]: 100%|██████████| 7/7 [00:00<00:00, 21.64it/s]\n"
     ]
    },
    {
     "name": "stdout",
     "output_type": "stream",
     "text": [
      "[Epoch: 9, Val Accuracy: 0.41796875]\n"
     ]
    },
    {
     "name": "stderr",
     "output_type": "stream",
     "text": [
      "Train:[10, 1.829]: 100%|██████████| 30/30 [00:03<00:00,  9.28it/s]\n",
      "100%|██████████| 30/30 [00:01<00:00, 22.09it/s]\n"
     ]
    },
    {
     "name": "stdout",
     "output_type": "stream",
     "text": [
      "[Epoch: 10, train Accuracy: 0.5247395634651184]\n"
     ]
    },
    {
     "name": "stderr",
     "output_type": "stream",
     "text": [
      "Val:[10, 1.801]: 100%|██████████| 7/7 [00:00<00:00, 22.26it/s]\n"
     ]
    },
    {
     "name": "stdout",
     "output_type": "stream",
     "text": [
      "[Epoch: 10, Val Accuracy: 0.4681919515132904]\n"
     ]
    },
    {
     "name": "stderr",
     "output_type": "stream",
     "text": [
      "Train:[11, 1.688]: 100%|██████████| 30/30 [00:03<00:00,  9.26it/s]\n",
      "100%|██████████| 30/30 [00:01<00:00, 21.80it/s]\n"
     ]
    },
    {
     "name": "stdout",
     "output_type": "stream",
     "text": [
      "[Epoch: 11, train Accuracy: 0.5582031011581421]\n"
     ]
    },
    {
     "name": "stderr",
     "output_type": "stream",
     "text": [
      "Val:[11, 1.677]: 100%|██████████| 7/7 [00:00<00:00, 20.96it/s]\n"
     ]
    },
    {
     "name": "stdout",
     "output_type": "stream",
     "text": [
      "[Epoch: 11, Val Accuracy: 0.5128348469734192]\n"
     ]
    },
    {
     "name": "stderr",
     "output_type": "stream",
     "text": [
      "Train:[12, 1.567]: 100%|██████████| 30/30 [00:03<00:00,  9.31it/s]\n",
      "100%|██████████| 30/30 [00:01<00:00, 22.59it/s]\n"
     ]
    },
    {
     "name": "stdout",
     "output_type": "stream",
     "text": [
      "[Epoch: 12, train Accuracy: 0.6194010376930237]\n"
     ]
    },
    {
     "name": "stderr",
     "output_type": "stream",
     "text": [
      "Val:[12, 1.564]: 100%|██████████| 7/7 [00:00<00:00, 22.32it/s]\n"
     ]
    },
    {
     "name": "stdout",
     "output_type": "stream",
     "text": [
      "[Epoch: 12, Val Accuracy: 0.5753348469734192]\n"
     ]
    },
    {
     "name": "stderr",
     "output_type": "stream",
     "text": [
      "Train:[13, 1.457]: 100%|██████████| 30/30 [00:03<00:00,  9.19it/s]\n",
      "100%|██████████| 30/30 [00:01<00:00, 22.61it/s]\n"
     ]
    },
    {
     "name": "stdout",
     "output_type": "stream",
     "text": [
      "[Epoch: 13, train Accuracy: 0.6572916507720947]\n"
     ]
    },
    {
     "name": "stderr",
     "output_type": "stream",
     "text": [
      "Val:[13, 1.436]: 100%|██████████| 7/7 [00:00<00:00, 21.89it/s]\n"
     ]
    },
    {
     "name": "stdout",
     "output_type": "stream",
     "text": [
      "[Epoch: 13, Val Accuracy: 0.6021205186843872]\n"
     ]
    },
    {
     "name": "stderr",
     "output_type": "stream",
     "text": [
      "Train:[14, 1.353]: 100%|██████████| 30/30 [00:03<00:00,  9.30it/s]\n",
      "100%|██████████| 30/30 [00:01<00:00, 22.62it/s]\n"
     ]
    },
    {
     "name": "stdout",
     "output_type": "stream",
     "text": [
      "[Epoch: 14, train Accuracy: 0.7092447876930237]\n"
     ]
    },
    {
     "name": "stderr",
     "output_type": "stream",
     "text": [
      "Val:[14, 1.347]: 100%|██████████| 7/7 [00:00<00:00, 22.12it/s]\n"
     ]
    },
    {
     "name": "stdout",
     "output_type": "stream",
     "text": [
      "[Epoch: 14, Val Accuracy: 0.6651785969734192]\n"
     ]
    },
    {
     "name": "stderr",
     "output_type": "stream",
     "text": [
      "Train:[15, 1.255]: 100%|██████████| 30/30 [00:03<00:00,  9.31it/s]\n",
      "100%|██████████| 30/30 [00:01<00:00, 22.40it/s]\n"
     ]
    },
    {
     "name": "stdout",
     "output_type": "stream",
     "text": [
      "[Epoch: 15, train Accuracy: 0.6895833611488342]\n"
     ]
    },
    {
     "name": "stderr",
     "output_type": "stream",
     "text": [
      "Val:[15, 1.307]: 100%|██████████| 7/7 [00:00<00:00, 21.57it/s]\n"
     ]
    },
    {
     "name": "stdout",
     "output_type": "stream",
     "text": [
      "[Epoch: 15, Val Accuracy: 0.6361607313156128]\n"
     ]
    },
    {
     "name": "stderr",
     "output_type": "stream",
     "text": [
      "Train:[16, 1.178]: 100%|██████████| 30/30 [00:03<00:00,  9.34it/s]\n",
      "100%|██████████| 30/30 [00:01<00:00, 22.65it/s]\n"
     ]
    },
    {
     "name": "stdout",
     "output_type": "stream",
     "text": [
      "[Epoch: 16, train Accuracy: 0.7533854246139526]\n"
     ]
    },
    {
     "name": "stderr",
     "output_type": "stream",
     "text": [
      "Val:[16, 1.158]: 100%|██████████| 7/7 [00:00<00:00, 21.88it/s]\n"
     ]
    },
    {
     "name": "stdout",
     "output_type": "stream",
     "text": [
      "[Epoch: 16, Val Accuracy: 0.6919642686843872]\n"
     ]
    },
    {
     "name": "stderr",
     "output_type": "stream",
     "text": [
      "Train:[17, 1.093]: 100%|██████████| 30/30 [00:03<00:00,  9.16it/s]\n",
      "100%|██████████| 30/30 [00:01<00:00, 22.59it/s]\n"
     ]
    },
    {
     "name": "stdout",
     "output_type": "stream",
     "text": [
      "[Epoch: 17, train Accuracy: 0.7533854246139526]\n"
     ]
    },
    {
     "name": "stderr",
     "output_type": "stream",
     "text": [
      "Val:[17, 1.135]: 100%|██████████| 7/7 [00:00<00:00, 22.34it/s]\n"
     ]
    },
    {
     "name": "stdout",
     "output_type": "stream",
     "text": [
      "[Epoch: 17, Val Accuracy: 0.6863839030265808]\n"
     ]
    },
    {
     "name": "stderr",
     "output_type": "stream",
     "text": [
      "Train:[18, 1.048]: 100%|██████████| 30/30 [00:03<00:00,  9.27it/s]\n",
      "100%|██████████| 30/30 [00:01<00:00, 22.61it/s]\n"
     ]
    },
    {
     "name": "stdout",
     "output_type": "stream",
     "text": [
      "[Epoch: 18, train Accuracy: 0.8102864623069763]\n"
     ]
    },
    {
     "name": "stderr",
     "output_type": "stream",
     "text": [
      "Val:[18, 1.026]: 100%|██████████| 7/7 [00:00<00:00, 22.30it/s]\n"
     ]
    },
    {
     "name": "stdout",
     "output_type": "stream",
     "text": [
      "[Epoch: 18, Val Accuracy: 0.7611607313156128]\n"
     ]
    },
    {
     "name": "stderr",
     "output_type": "stream",
     "text": [
      "Train:[19, 0.932]: 100%|██████████| 30/30 [00:03<00:00,  9.34it/s]\n",
      "100%|██████████| 30/30 [00:01<00:00, 22.64it/s]\n"
     ]
    },
    {
     "name": "stdout",
     "output_type": "stream",
     "text": [
      "[Epoch: 19, train Accuracy: 0.8315104246139526]\n"
     ]
    },
    {
     "name": "stderr",
     "output_type": "stream",
     "text": [
      "Val:[19, 0.937]: 100%|██████████| 7/7 [00:00<00:00, 21.72it/s]\n"
     ]
    },
    {
     "name": "stdout",
     "output_type": "stream",
     "text": [
      "[Epoch: 19, Val Accuracy: 0.78515625]\n"
     ]
    },
    {
     "name": "stderr",
     "output_type": "stream",
     "text": [
      "Train:[20, 0.865]: 100%|██████████| 30/30 [00:03<00:00,  9.16it/s]\n",
      "100%|██████████| 30/30 [00:01<00:00, 22.38it/s]\n"
     ]
    },
    {
     "name": "stdout",
     "output_type": "stream",
     "text": [
      "[Epoch: 20, train Accuracy: 0.858593761920929]\n"
     ]
    },
    {
     "name": "stderr",
     "output_type": "stream",
     "text": [
      "Val:[20, 0.878]: 100%|██████████| 7/7 [00:00<00:00, 22.06it/s]\n"
     ]
    },
    {
     "name": "stdout",
     "output_type": "stream",
     "text": [
      "[Epoch: 20, Val Accuracy: 0.8186383843421936]\n"
     ]
    },
    {
     "name": "stderr",
     "output_type": "stream",
     "text": [
      "Train:[21, 0.799]: 100%|██████████| 30/30 [00:03<00:00,  9.22it/s]\n",
      "100%|██████████| 30/30 [00:01<00:00, 22.36it/s]\n"
     ]
    },
    {
     "name": "stdout",
     "output_type": "stream",
     "text": [
      "[Epoch: 21, train Accuracy: 0.8572916388511658]\n"
     ]
    },
    {
     "name": "stderr",
     "output_type": "stream",
     "text": [
      "Val:[21, 0.837]: 100%|██████████| 7/7 [00:00<00:00, 19.90it/s]\n"
     ]
    },
    {
     "name": "stdout",
     "output_type": "stream",
     "text": [
      "[Epoch: 21, Val Accuracy: 0.8180803656578064]\n"
     ]
    },
    {
     "name": "stderr",
     "output_type": "stream",
     "text": [
      "Train:[22, 0.732]: 100%|██████████| 30/30 [00:03<00:00,  9.20it/s]\n",
      "100%|██████████| 30/30 [00:01<00:00, 22.46it/s]\n"
     ]
    },
    {
     "name": "stdout",
     "output_type": "stream",
     "text": [
      "[Epoch: 22, train Accuracy: 0.8911458253860474]\n"
     ]
    },
    {
     "name": "stderr",
     "output_type": "stream",
     "text": [
      "Val:[22, 0.757]: 100%|██████████| 7/7 [00:00<00:00, 21.41it/s]\n"
     ]
    },
    {
     "name": "stdout",
     "output_type": "stream",
     "text": [
      "[Epoch: 22, Val Accuracy: 0.8420758843421936]\n"
     ]
    },
    {
     "name": "stderr",
     "output_type": "stream",
     "text": [
      "Train:[23, 0.686]: 100%|██████████| 30/30 [00:03<00:00,  9.21it/s]\n",
      "100%|██████████| 30/30 [00:01<00:00, 22.09it/s]\n"
     ]
    },
    {
     "name": "stdout",
     "output_type": "stream",
     "text": [
      "[Epoch: 23, train Accuracy: 0.900390625]\n"
     ]
    },
    {
     "name": "stderr",
     "output_type": "stream",
     "text": [
      "Val:[23, 0.722]: 100%|██████████| 7/7 [00:00<00:00, 20.82it/s]\n"
     ]
    },
    {
     "name": "stdout",
     "output_type": "stream",
     "text": [
      "[Epoch: 23, Val Accuracy: 0.8515625]\n"
     ]
    },
    {
     "name": "stderr",
     "output_type": "stream",
     "text": [
      "Train:[24, 0.623]: 100%|██████████| 30/30 [00:03<00:00,  9.22it/s]\n",
      "100%|██████████| 30/30 [00:01<00:00, 22.63it/s]\n"
     ]
    },
    {
     "name": "stdout",
     "output_type": "stream",
     "text": [
      "[Epoch: 24, train Accuracy: 0.916015625]\n"
     ]
    },
    {
     "name": "stderr",
     "output_type": "stream",
     "text": [
      "Val:[24, 0.656]: 100%|██████████| 7/7 [00:00<00:00, 22.34it/s]\n"
     ]
    },
    {
     "name": "stdout",
     "output_type": "stream",
     "text": [
      "[Epoch: 24, Val Accuracy: 0.8688616156578064]\n"
     ]
    },
    {
     "name": "stderr",
     "output_type": "stream",
     "text": [
      "Train:[25, 0.575]: 100%|██████████| 30/30 [00:03<00:00,  9.19it/s]\n",
      "100%|██████████| 30/30 [00:01<00:00, 22.49it/s]\n"
     ]
    },
    {
     "name": "stdout",
     "output_type": "stream",
     "text": [
      "[Epoch: 25, train Accuracy: 0.9125000238418579]\n"
     ]
    },
    {
     "name": "stderr",
     "output_type": "stream",
     "text": [
      "Val:[25, 0.637]: 100%|██████████| 7/7 [00:00<00:00, 22.34it/s]\n"
     ]
    },
    {
     "name": "stdout",
     "output_type": "stream",
     "text": [
      "[Epoch: 25, Val Accuracy: 0.8699776530265808]\n"
     ]
    },
    {
     "name": "stderr",
     "output_type": "stream",
     "text": [
      "Train:[26, 0.528]: 100%|██████████| 30/30 [00:03<00:00,  9.31it/s]\n",
      "100%|██████████| 30/30 [00:01<00:00, 22.27it/s]\n"
     ]
    },
    {
     "name": "stdout",
     "output_type": "stream",
     "text": [
      "[Epoch: 26, train Accuracy: 0.9389322996139526]\n"
     ]
    },
    {
     "name": "stderr",
     "output_type": "stream",
     "text": [
      "Val:[26, 0.562]: 100%|██████████| 7/7 [00:00<00:00, 22.00it/s]\n"
     ]
    },
    {
     "name": "stdout",
     "output_type": "stream",
     "text": [
      "[Epoch: 26, Val Accuracy: 0.89453125]\n"
     ]
    },
    {
     "name": "stderr",
     "output_type": "stream",
     "text": [
      "Train:[27, 0.471]: 100%|██████████| 30/30 [00:03<00:00,  9.34it/s]\n",
      "100%|██████████| 30/30 [00:01<00:00, 22.66it/s]\n"
     ]
    },
    {
     "name": "stdout",
     "output_type": "stream",
     "text": [
      "[Epoch: 27, train Accuracy: 0.958203136920929]\n"
     ]
    },
    {
     "name": "stderr",
     "output_type": "stream",
     "text": [
      "Val:[27, 0.502]: 100%|██████████| 7/7 [00:00<00:00, 21.70it/s]\n"
     ]
    },
    {
     "name": "stdout",
     "output_type": "stream",
     "text": [
      "[Epoch: 27, Val Accuracy: 0.9274553656578064]\n"
     ]
    },
    {
     "name": "stderr",
     "output_type": "stream",
     "text": [
      "Train:[28, 0.438]: 100%|██████████| 30/30 [00:03<00:00,  9.34it/s]\n",
      "100%|██████████| 30/30 [00:01<00:00, 22.60it/s]\n"
     ]
    },
    {
     "name": "stdout",
     "output_type": "stream",
     "text": [
      "[Epoch: 28, train Accuracy: 0.9527343511581421]\n"
     ]
    },
    {
     "name": "stderr",
     "output_type": "stream",
     "text": [
      "Val:[28, 0.485]: 100%|██████████| 7/7 [00:00<00:00, 22.15it/s]\n"
     ]
    },
    {
     "name": "stdout",
     "output_type": "stream",
     "text": [
      "[Epoch: 28, Val Accuracy: 0.9129464030265808]\n"
     ]
    },
    {
     "name": "stderr",
     "output_type": "stream",
     "text": [
      "Train:[29, 0.408]: 100%|██████████| 30/30 [00:03<00:00,  9.28it/s]\n",
      "100%|██████████| 30/30 [00:01<00:00, 22.65it/s]\n"
     ]
    },
    {
     "name": "stdout",
     "output_type": "stream",
     "text": [
      "[Epoch: 29, train Accuracy: 0.956250011920929]\n"
     ]
    },
    {
     "name": "stderr",
     "output_type": "stream",
     "text": [
      "Val:[29, 0.457]: 100%|██████████| 7/7 [00:00<00:00, 22.19it/s]\n"
     ]
    },
    {
     "name": "stdout",
     "output_type": "stream",
     "text": [
      "[Epoch: 29, Val Accuracy: 0.9146205186843872]\n"
     ]
    },
    {
     "name": "stderr",
     "output_type": "stream",
     "text": [
      "Train:[30, 0.365]: 100%|██████████| 30/30 [00:03<00:00,  8.55it/s]\n",
      "100%|██████████| 30/30 [00:01<00:00, 22.45it/s]\n"
     ]
    },
    {
     "name": "stdout",
     "output_type": "stream",
     "text": [
      "[Epoch: 30, train Accuracy: 0.962109386920929]\n"
     ]
    },
    {
     "name": "stderr",
     "output_type": "stream",
     "text": [
      "Val:[30, 0.419]: 100%|██████████| 7/7 [00:00<00:00, 22.23it/s]\n"
     ]
    },
    {
     "name": "stdout",
     "output_type": "stream",
     "text": [
      "[Epoch: 30, Val Accuracy: 0.921875]\n"
     ]
    },
    {
     "name": "stderr",
     "output_type": "stream",
     "text": [
      "Train:[31, 0.332]: 100%|██████████| 30/30 [00:03<00:00,  9.33it/s]\n",
      "100%|██████████| 30/30 [00:01<00:00, 22.47it/s]\n"
     ]
    },
    {
     "name": "stdout",
     "output_type": "stream",
     "text": [
      "[Epoch: 31, train Accuracy: 0.9665364623069763]\n"
     ]
    },
    {
     "name": "stderr",
     "output_type": "stream",
     "text": [
      "Val:[31, 0.383]: 100%|██████████| 7/7 [00:00<00:00, 21.89it/s]\n"
     ]
    },
    {
     "name": "stdout",
     "output_type": "stream",
     "text": [
      "[Epoch: 31, Val Accuracy: 0.9319196343421936]\n"
     ]
    },
    {
     "name": "stderr",
     "output_type": "stream",
     "text": [
      "Train:[32, 0.302]: 100%|██████████| 30/30 [00:03<00:00,  9.34it/s]\n",
      "100%|██████████| 30/30 [00:01<00:00, 22.63it/s]\n"
     ]
    },
    {
     "name": "stdout",
     "output_type": "stream",
     "text": [
      "[Epoch: 32, train Accuracy: 0.9790364503860474]\n"
     ]
    },
    {
     "name": "stderr",
     "output_type": "stream",
     "text": [
      "Val:[32, 0.337]: 100%|██████████| 7/7 [00:00<00:00, 21.95it/s]\n"
     ]
    },
    {
     "name": "stdout",
     "output_type": "stream",
     "text": [
      "[Epoch: 32, Val Accuracy: 0.9525669813156128]\n"
     ]
    },
    {
     "name": "stderr",
     "output_type": "stream",
     "text": [
      "Train:[33, 0.263]: 100%|██████████| 30/30 [00:03<00:00,  9.19it/s]\n",
      "100%|██████████| 30/30 [00:01<00:00, 21.95it/s]\n"
     ]
    },
    {
     "name": "stdout",
     "output_type": "stream",
     "text": [
      "[Epoch: 33, train Accuracy: 0.9750000238418579]\n"
     ]
    },
    {
     "name": "stderr",
     "output_type": "stream",
     "text": [
      "Val:[33, 0.344]: 100%|██████████| 7/7 [00:00<00:00, 21.30it/s]\n"
     ]
    },
    {
     "name": "stdout",
     "output_type": "stream",
     "text": [
      "[Epoch: 33, Val Accuracy: 0.9408482313156128]\n"
     ]
    },
    {
     "name": "stderr",
     "output_type": "stream",
     "text": [
      "Train:[34, 0.266]: 100%|██████████| 30/30 [00:03<00:00,  9.29it/s]\n",
      "100%|██████████| 30/30 [00:01<00:00, 21.91it/s]\n"
     ]
    },
    {
     "name": "stdout",
     "output_type": "stream",
     "text": [
      "[Epoch: 34, train Accuracy: 0.973828136920929]\n"
     ]
    },
    {
     "name": "stderr",
     "output_type": "stream",
     "text": [
      "Val:[34, 0.326]: 100%|██████████| 7/7 [00:00<00:00, 20.69it/s]\n"
     ]
    },
    {
     "name": "stdout",
     "output_type": "stream",
     "text": [
      "[Epoch: 34, Val Accuracy: 0.9458705186843872]\n"
     ]
    },
    {
     "name": "stderr",
     "output_type": "stream",
     "text": [
      "Train:[35, 0.245]: 100%|██████████| 30/30 [00:03<00:00,  9.18it/s]\n",
      "100%|██████████| 30/30 [00:01<00:00, 22.59it/s]\n"
     ]
    },
    {
     "name": "stdout",
     "output_type": "stream",
     "text": [
      "[Epoch: 35, train Accuracy: 0.9889323115348816]\n"
     ]
    },
    {
     "name": "stderr",
     "output_type": "stream",
     "text": [
      "Val:[35, 0.279]: 100%|██████████| 7/7 [00:00<00:00, 18.20it/s]\n"
     ]
    },
    {
     "name": "stdout",
     "output_type": "stream",
     "text": [
      "[Epoch: 35, Val Accuracy: 0.9603794813156128]\n"
     ]
    },
    {
     "name": "stderr",
     "output_type": "stream",
     "text": [
      "Train:[36, 0.210]: 100%|██████████| 30/30 [00:03<00:00,  9.30it/s]\n",
      "100%|██████████| 30/30 [00:01<00:00, 22.60it/s]\n"
     ]
    },
    {
     "name": "stdout",
     "output_type": "stream",
     "text": [
      "[Epoch: 36, train Accuracy: 0.9819010496139526]\n"
     ]
    },
    {
     "name": "stderr",
     "output_type": "stream",
     "text": [
      "Val:[36, 0.263]: 100%|██████████| 7/7 [00:00<00:00, 22.29it/s]\n"
     ]
    },
    {
     "name": "stdout",
     "output_type": "stream",
     "text": [
      "[Epoch: 36, Val Accuracy: 0.9547991156578064]\n"
     ]
    },
    {
     "name": "stderr",
     "output_type": "stream",
     "text": [
      "Train:[37, 0.203]: 100%|██████████| 30/30 [00:03<00:00,  9.30it/s]\n",
      "100%|██████████| 30/30 [00:01<00:00, 22.61it/s]\n"
     ]
    },
    {
     "name": "stdout",
     "output_type": "stream",
     "text": [
      "[Epoch: 37, train Accuracy: 0.9864583611488342]\n"
     ]
    },
    {
     "name": "stderr",
     "output_type": "stream",
     "text": [
      "Val:[37, 0.252]: 100%|██████████| 7/7 [00:00<00:00, 22.27it/s]\n"
     ]
    },
    {
     "name": "stdout",
     "output_type": "stream",
     "text": [
      "[Epoch: 37, Val Accuracy: 0.9575892686843872]\n"
     ]
    },
    {
     "name": "stderr",
     "output_type": "stream",
     "text": [
      "Train:[38, 0.180]: 100%|██████████| 30/30 [00:03<00:00,  9.32it/s]\n",
      "100%|██████████| 30/30 [00:01<00:00, 22.64it/s]\n"
     ]
    },
    {
     "name": "stdout",
     "output_type": "stream",
     "text": [
      "[Epoch: 38, train Accuracy: 0.9895833134651184]\n"
     ]
    },
    {
     "name": "stderr",
     "output_type": "stream",
     "text": [
      "Val:[38, 0.240]: 100%|██████████| 7/7 [00:00<00:00, 22.39it/s]\n"
     ]
    },
    {
     "name": "stdout",
     "output_type": "stream",
     "text": [
      "[Epoch: 38, Val Accuracy: 0.9559151530265808]\n"
     ]
    },
    {
     "name": "stderr",
     "output_type": "stream",
     "text": [
      "Train:[39, 0.173]: 100%|██████████| 30/30 [00:03<00:00,  9.33it/s]\n",
      "100%|██████████| 30/30 [00:01<00:00, 22.63it/s]\n"
     ]
    },
    {
     "name": "stdout",
     "output_type": "stream",
     "text": [
      "[Epoch: 39, train Accuracy: 0.983203113079071]\n"
     ]
    },
    {
     "name": "stderr",
     "output_type": "stream",
     "text": [
      "Val:[39, 0.240]: 100%|██████████| 7/7 [00:00<00:00, 22.15it/s]\n"
     ]
    },
    {
     "name": "stdout",
     "output_type": "stream",
     "text": [
      "[Epoch: 39, Val Accuracy: 0.9631696343421936]\n"
     ]
    },
    {
     "name": "stderr",
     "output_type": "stream",
     "text": [
      "Train:[40, 0.165]: 100%|██████████| 30/30 [00:03<00:00,  9.34it/s]\n",
      "100%|██████████| 30/30 [00:01<00:00, 22.60it/s]\n"
     ]
    },
    {
     "name": "stdout",
     "output_type": "stream",
     "text": [
      "[Epoch: 40, train Accuracy: 0.995312511920929]\n"
     ]
    },
    {
     "name": "stderr",
     "output_type": "stream",
     "text": [
      "Val:[40, 0.213]: 100%|██████████| 7/7 [00:00<00:00, 22.34it/s]\n"
     ]
    },
    {
     "name": "stdout",
     "output_type": "stream",
     "text": [
      "[Epoch: 40, Val Accuracy: 0.9732142686843872]\n"
     ]
    },
    {
     "name": "stderr",
     "output_type": "stream",
     "text": [
      "Train:[41, 0.149]: 100%|██████████| 30/30 [00:03<00:00,  9.32it/s]\n",
      "100%|██████████| 30/30 [00:01<00:00, 22.60it/s]\n"
     ]
    },
    {
     "name": "stdout",
     "output_type": "stream",
     "text": [
      "[Epoch: 41, train Accuracy: 0.987109363079071]\n"
     ]
    },
    {
     "name": "stderr",
     "output_type": "stream",
     "text": [
      "Val:[41, 0.217]: 100%|██████████| 7/7 [00:00<00:00, 22.12it/s]\n"
     ]
    },
    {
     "name": "stdout",
     "output_type": "stream",
     "text": [
      "[Epoch: 41, Val Accuracy: 0.9670758843421936]\n"
     ]
    },
    {
     "name": "stderr",
     "output_type": "stream",
     "text": [
      "Train:[42, 0.129]: 100%|██████████| 30/30 [00:03<00:00,  9.33it/s]\n",
      "100%|██████████| 30/30 [00:01<00:00, 22.61it/s]\n"
     ]
    },
    {
     "name": "stdout",
     "output_type": "stream",
     "text": [
      "[Epoch: 42, train Accuracy: 0.995312511920929]\n"
     ]
    },
    {
     "name": "stderr",
     "output_type": "stream",
     "text": [
      "Val:[42, 0.182]: 100%|██████████| 7/7 [00:00<00:00, 21.67it/s]\n"
     ]
    },
    {
     "name": "stdout",
     "output_type": "stream",
     "text": [
      "[Epoch: 42, Val Accuracy: 0.9743303656578064]\n"
     ]
    },
    {
     "name": "stderr",
     "output_type": "stream",
     "text": [
      "Train:[43, 0.119]: 100%|██████████| 30/30 [00:03<00:00,  9.20it/s]\n",
      "100%|██████████| 30/30 [00:01<00:00, 22.61it/s]\n"
     ]
    },
    {
     "name": "stdout",
     "output_type": "stream",
     "text": [
      "[Epoch: 43, train Accuracy: 0.9966145753860474]\n"
     ]
    },
    {
     "name": "stderr",
     "output_type": "stream",
     "text": [
      "Val:[43, 0.171]: 100%|██████████| 7/7 [00:00<00:00, 21.88it/s]\n"
     ]
    },
    {
     "name": "stdout",
     "output_type": "stream",
     "text": [
      "[Epoch: 43, Val Accuracy: 0.9799107313156128]\n"
     ]
    },
    {
     "name": "stderr",
     "output_type": "stream",
     "text": [
      "Train:[44, 0.106]: 100%|██████████| 30/30 [00:03<00:00,  9.31it/s]\n",
      "100%|██████████| 30/30 [00:01<00:00, 22.62it/s]\n"
     ]
    },
    {
     "name": "stdout",
     "output_type": "stream",
     "text": [
      "[Epoch: 44, train Accuracy: 0.9940103888511658]\n"
     ]
    },
    {
     "name": "stderr",
     "output_type": "stream",
     "text": [
      "Val:[44, 0.171]: 100%|██████████| 7/7 [00:00<00:00, 22.29it/s]\n"
     ]
    },
    {
     "name": "stdout",
     "output_type": "stream",
     "text": [
      "[Epoch: 44, Val Accuracy: 0.96875]\n"
     ]
    },
    {
     "name": "stderr",
     "output_type": "stream",
     "text": [
      "Train:[45, 0.100]: 100%|██████████| 30/30 [00:03<00:00,  9.28it/s]\n",
      "100%|██████████| 30/30 [00:01<00:00, 22.61it/s]\n"
     ]
    },
    {
     "name": "stdout",
     "output_type": "stream",
     "text": [
      "[Epoch: 45, train Accuracy: 0.9958333373069763]\n"
     ]
    },
    {
     "name": "stderr",
     "output_type": "stream",
     "text": [
      "Val:[45, 0.152]: 100%|██████████| 7/7 [00:00<00:00, 22.15it/s]\n"
     ]
    },
    {
     "name": "stdout",
     "output_type": "stream",
     "text": [
      "[Epoch: 45, Val Accuracy: 0.9776785969734192]\n"
     ]
    },
    {
     "name": "stderr",
     "output_type": "stream",
     "text": [
      "Train:[46, 0.083]: 100%|██████████| 30/30 [00:03<00:00,  9.26it/s]\n",
      "100%|██████████| 30/30 [00:01<00:00, 22.59it/s]\n"
     ]
    },
    {
     "name": "stdout",
     "output_type": "stream",
     "text": [
      "[Epoch: 46, train Accuracy: 0.9985677003860474]\n"
     ]
    },
    {
     "name": "stderr",
     "output_type": "stream",
     "text": [
      "Val:[46, 0.134]: 100%|██████████| 7/7 [00:00<00:00, 22.34it/s]\n"
     ]
    },
    {
     "name": "stdout",
     "output_type": "stream",
     "text": [
      "[Epoch: 46, Val Accuracy: 0.98046875]\n"
     ]
    },
    {
     "name": "stderr",
     "output_type": "stream",
     "text": [
      "Train:[47, 0.079]: 100%|██████████| 30/30 [00:03<00:00,  9.23it/s]\n",
      "100%|██████████| 30/30 [00:01<00:00, 22.63it/s]\n"
     ]
    },
    {
     "name": "stdout",
     "output_type": "stream",
     "text": [
      "[Epoch: 47, train Accuracy: 0.9934895634651184]\n"
     ]
    },
    {
     "name": "stderr",
     "output_type": "stream",
     "text": [
      "Val:[47, 0.144]: 100%|██████████| 7/7 [00:00<00:00, 22.33it/s]\n"
     ]
    },
    {
     "name": "stdout",
     "output_type": "stream",
     "text": [
      "[Epoch: 47, Val Accuracy: 0.9765625]\n"
     ]
    },
    {
     "name": "stderr",
     "output_type": "stream",
     "text": [
      "Train:[48, 0.075]: 100%|██████████| 30/30 [00:03<00:00,  9.27it/s]\n",
      "100%|██████████| 30/30 [00:01<00:00, 22.58it/s]\n"
     ]
    },
    {
     "name": "stdout",
     "output_type": "stream",
     "text": [
      "[Epoch: 48, train Accuracy: 0.9963541626930237]\n"
     ]
    },
    {
     "name": "stderr",
     "output_type": "stream",
     "text": [
      "Val:[48, 0.130]: 100%|██████████| 7/7 [00:00<00:00, 21.48it/s]\n"
     ]
    },
    {
     "name": "stdout",
     "output_type": "stream",
     "text": [
      "[Epoch: 48, Val Accuracy: 0.9810267686843872]\n"
     ]
    },
    {
     "name": "stderr",
     "output_type": "stream",
     "text": [
      "Train:[49, 0.072]: 100%|██████████| 30/30 [00:03<00:00,  9.31it/s]\n",
      "100%|██████████| 30/30 [00:01<00:00, 22.57it/s]\n"
     ]
    },
    {
     "name": "stdout",
     "output_type": "stream",
     "text": [
      "[Epoch: 49, train Accuracy: 0.9977864623069763]\n"
     ]
    },
    {
     "name": "stderr",
     "output_type": "stream",
     "text": [
      "Val:[49, 0.128]: 100%|██████████| 7/7 [00:00<00:00, 22.23it/s]\n"
     ]
    },
    {
     "name": "stdout",
     "output_type": "stream",
     "text": [
      "[Epoch: 49, Val Accuracy: 0.9799107313156128]\n"
     ]
    }
   ],
   "source": [
    "train_losses = []\n",
    "val_losses = []\n",
    "val_accs=[]\n",
    "for epoch in range(0, EPOCHS):\n",
    "        running_train_loss = train(epoch, model, optimizer, loss_fn, x_train_eeg, train_labels)\n",
    "        running_val_loss,acc = validation(epoch, model, optimizer, loss_fn, val_dataloader)\n",
    "        train_losses.append(running_train_loss)\n",
    "        val_losses.append(running_val_loss)\n",
    "        val_accs.append(acc)"
   ]
  },
  {
   "cell_type": "code",
   "execution_count": 22,
   "metadata": {},
   "outputs": [
    {
     "name": "stderr",
     "output_type": "stream",
     "text": [
      "Val:[49, 0.127]: 100%|██████████| 1987/1987 [00:03<00:00, 526.73it/s]\n"
     ]
    },
    {
     "name": "stdout",
     "output_type": "stream",
     "text": [
      "[Epoch: 49, Val Accuracy: 0.9818822145462036]\n"
     ]
    }
   ],
   "source": [
    "test_loss, test_acc   = test_fn(epoch, model, optimizer, loss_fn, test_dataloader)"
   ]
  },
  {
   "cell_type": "code",
   "execution_count": 23,
   "metadata": {},
   "outputs": [
    {
     "data": {
      "text/plain": [
       "Text(0.5, 1.0, 'Baseline Validation Accuracy')"
      ]
     },
     "execution_count": 23,
     "metadata": {},
     "output_type": "execute_result"
    },
    {
     "data": {
      "image/png": "[encoded data removed]",
      "text/plain": [
       "<Figure size 640x480 with 1 Axes>"
      ]
     },
     "metadata": {},
     "output_type": "display_data"
    }
   ],
   "source": [
    "import matplotlib.pyplot as plt\n",
    "plt.plot(val_accs,label='Val acc')\n",
    "plt.xlabel(\"Epochs\")\n",
    "plt.ylabel(\"Accuracy\")\n",
    "plt.title(\"Baseline Validation Accuracy\")"
   ]
  },
  {
   "cell_type": "code",
   "execution_count": 24,
   "metadata": {},
   "outputs": [
    {
     "data": {
      "text/plain": [
       "<matplotlib.legend.Legend at 0x7f560c6753d0>"
      ]
     },
     "execution_count": 24,
     "metadata": {},
     "output_type": "execute_result"
    },
    {
     "data": {
      "image/png": "[encoded data removed]",
      "text/plain": [
       "<Figure size 640x480 with 1 Axes>"
      ]
     },
     "metadata": {},
     "output_type": "display_data"
    }
   ],
   "source": [
    "plt.plot(val_losses,label='Val Loss')\n",
    "plt.plot(train_losses,label=\"Train Loss\")\n",
    "plt.xlabel(\"Epochs\")\n",
    "plt.ylabel(\"Loss\")\n",
    "plt.title(\"Baseline Loss\")\n",
    "plt.legend()"
   ]
  },
  {
   "cell_type": "code",
   "execution_count": 25,
   "metadata": {},
   "outputs": [
    {
     "name": "stdout",
     "output_type": "stream",
     "text": [
      "Test Accuracy tensor(0.9819)\n"
     ]
    },
    {
     "ename": "",
     "evalue": "",
     "output_type": "error",
     "traceback": [
      "\u001b[1;31mThe Kernel crashed while executing code in the the current cell or a previous cell. Please review the code in the cell(s) to identify a possible cause of the failure. Click <a href='https://aka.ms/vscodeJupyterKernelCrash'>here</a> for more info. View Jupyter <a href='command:jupyter.viewOutput'>log</a> for further details."
     ]
    }
   ],
   "source": [
    "print(\"Test Accuracy\", test_acc)"
   ]
  }
 ],
 "metadata": {
  "kernelspec": {
   "display_name": "ml",
   "language": "python",
   "name": "ml"
  },
  "language_info": {
   "codemirror_mode": {
    "name": "ipython",
    "version": 3
   },
   "file_extension": ".py",
   "mimetype": "text/x-python",
   "name": "python",
   "nbconvert_exporter": "python",
   "pygments_lexer": "ipython3",
   "version": "3.9.16"
  },
  "orig_nbformat": 4
 },
 "nbformat": 4,
 "nbformat_minor": 2
}
